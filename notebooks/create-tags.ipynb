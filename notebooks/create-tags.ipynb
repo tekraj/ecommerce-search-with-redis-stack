{
 "cells": [
  {
   "cell_type": "code",
   "execution_count": 27,
   "metadata": {},
   "outputs": [
    {
     "name": "stderr",
     "output_type": "stream",
     "text": [
      "[nltk_data] Downloading package punkt to /home/tek/nltk_data...\n",
      "[nltk_data]   Package punkt is already up-to-date!\n",
      "[nltk_data] Downloading package stopwords to /home/tek/nltk_data...\n",
      "[nltk_data]   Package stopwords is already up-to-date!\n",
      "[nltk_data] Downloading package wordnet to /home/tek/nltk_data...\n",
      "[nltk_data]   Package wordnet is already up-to-date!\n"
     ]
    }
   ],
   "source": [
    "import mysql.connector\n",
    "import nltk\n",
    "from nltk.corpus import stopwords\n",
    "from nltk.tokenize import word_tokenize\n",
    "from nltk.stem import WordNetLemmatizer\n",
    "from sklearn.feature_extraction.text import TfidfVectorizer\n",
    "from collections import defaultdict\n",
    "import string\n",
    "\n",
    "nltk.download('punkt')\n",
    "nltk.download('stopwords')\n",
    "nltk.download('wordnet')\n",
    "\n",
    "db_connection = mysql.connector.connect(\n",
    "    host=\"localhost\",\n",
    "    user=\"root\",\n",
    "    password=\"vfgetew2234*Wew\",\n",
    "    database=\"ecommerce\",\n",
    "    port='3307'\n",
    ")\n",
    "\n",
    "cursor = db_connection.cursor(dictionary=True)\n",
    "cursor.execute(\"SELECT Product.id, Product.name, Category.name as category, Product.description FROM Product INNER JOIN Category ON Category.id=Product.CategoryId\")\n",
    "products = cursor.fetchall()\n",
    "\n",
    "lemmatizer = WordNetLemmatizer()\n",
    "stop_words = set(stopwords.words('english'))\n",
    "\n",
    "def preprocess_text(text):\n",
    "    tokens = word_tokenize(text.lower())\n",
    "    tokens = [lemmatizer.lemmatize(token) for token in tokens if token not in string.punctuation and token not in stop_words]\n",
    "    return \" \".join(tokens)\n",
    "\n",
    "tags_per_product = defaultdict(list)\n",
    "all_texts = []\n",
    "for product in products:\n",
    "    name = preprocess_text(product['name'])\n",
    "    category = preprocess_text(product['category'])\n",
    "    description = preprocess_text(product['description'])\n",
    "    text = name + \" \" + category + \" \" + description\n",
    "    all_texts.append(text)\n",
    "\n",
    "# TF-IDF Vectorization\n",
    "vectorizer = TfidfVectorizer()\n",
    "tfidf_matrix = vectorizer.fit_transform(all_texts)\n",
    "\n",
    "# Extract keywords for each product\n",
    "feature_names = vectorizer.get_feature_names_out()\n",
    "for i, product in enumerate(products):\n",
    "    feature_index = tfidf_matrix[i,:].nonzero()[1]\n",
    "    tfidf_scores = zip(feature_index, [tfidf_matrix[i, x] for x in feature_index])\n",
    "    top_keywords = sorted([(feature_names[i], score) for (i, score) in tfidf_scores], key=lambda x: x[1], reverse=True)[:5]\n",
    "    tags_per_product[product['id']] = [keyword for keyword, _ in top_keywords]\n",
    "\n",
    "for product_id, product_tags in tags_per_product.items():\n",
    "    tags = \", \".join(product_tags)\n",
    "    cursor.execute(\"UPDATE Product SET tags = %s WHERE id = %s\", (tags, product_id))\n",
    "    db_connection.commit()\n",
    "\n",
    "cursor.close()\n",
    "db_connection.close()\n"
   ]
  }
 ],
 "metadata": {
  "kernelspec": {
   "display_name": "Python 3",
   "language": "python",
   "name": "python3"
  },
  "language_info": {
   "codemirror_mode": {
    "name": "ipython",
    "version": 3
   },
   "file_extension": ".py",
   "mimetype": "text/x-python",
   "name": "python",
   "nbconvert_exporter": "python",
   "pygments_lexer": "ipython3",
   "version": "3.10.12"
  }
 },
 "nbformat": 4,
 "nbformat_minor": 2
}
